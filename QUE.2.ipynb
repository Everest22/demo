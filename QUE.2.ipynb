{
 "cells": [
  {
   "cell_type": "code",
   "execution_count": 11,
   "id": "da84076b",
   "metadata": {},
   "outputs": [
    {
     "name": "stdout",
     "output_type": "stream",
     "text": [
      "First block:\n",
      "It's first data  Block1\n",
      "061b1a1dcd6ae631f7bd86030b7a049dea6e1dd52248885bab4011f1d3376ea9 \n",
      "\n",
      "It's second data  Block2\n",
      "7c80f6bd2f72740445a04b80bc95ba1198ab2ea6edd56e8e869fddd4b6d58ef7 \n",
      "\n",
      "It's third data  Block3\n",
      "ec1613d87814cfbf8c70a90d25eca3326ba59659e91ac5731078da1a0e7338f7 \n",
      "\n",
      "It's four data  Block4\n",
      "133558dfbc6eea5fcc6ae026d19fab3723184836e1585e6c4ad19353e712e1a8 \n",
      "\n",
      "It's fifth data  Block5\n",
      "74ebb291a250c041bf39c747948a614e563665edfded2dafb398bb02ba765ce9 \n",
      "\n"
     ]
    }
   ],
   "source": [
    "# Creating blockchain:\n",
    "\n",
    "import hashlib\n",
    " \n",
    "class BlockChain:\n",
    "    def __init__(self, previous_hash, transactions):\n",
    "        self.previous_hash = previous_hash\n",
    "        self.transactions = transactions\n",
    "        self.block_data = \"-----\".join(transactions) + \"  \" + previous_hash\n",
    "        self.block_hash = hashlib.sha256(self.block_data.encode()).hexdigest()\n",
    "    \n",
    "t1 = \"It's first data\"\n",
    "t2 = \"It's second data\"\n",
    "t3 = \"It's third data\"\n",
    "t4 = \"It's four data\"\n",
    "t5 = \"It's fifth data\"\n",
    "\n",
    "\n",
    "print(\"First block:\")\n",
    "\n",
    "Block1 = BlockChain(\"Block1\", [t1])\n",
    "print(Block1.block_data)\n",
    "print(Block1.block_hash, \"\\n\")\n",
    "\n",
    "Block2 = BlockChain(\"Block2\", [t2])\n",
    "print(Block2.block_data)\n",
    "print(Block2.block_hash, \"\\n\")\n",
    "\n",
    "Block3 = BlockChain(\"Block3\", [t3])\n",
    "print(Block3.block_data)\n",
    "print(Block3.block_hash, \"\\n\")\n",
    "\n",
    "Block4 = BlockChain(\"Block4\", [t4])\n",
    "print(Block4.block_data)\n",
    "print(Block4.block_hash, \"\\n\")\n",
    "\n",
    "Block5 = BlockChain(\"Block5\", [t5])\n",
    "print(Block5.block_data)\n",
    "print(Block5.block_hash, \"\\n\")"
   ]
  },
  {
   "cell_type": "code",
   "execution_count": null,
   "id": "1f4902a9",
   "metadata": {},
   "outputs": [],
   "source": []
  }
 ],
 "metadata": {
  "kernelspec": {
   "display_name": "Python 3 (ipykernel)",
   "language": "python",
   "name": "python3"
  },
  "language_info": {
   "codemirror_mode": {
    "name": "ipython",
    "version": 3
   },
   "file_extension": ".py",
   "mimetype": "text/x-python",
   "name": "python",
   "nbconvert_exporter": "python",
   "pygments_lexer": "ipython3",
   "version": "3.9.7"
  }
 },
 "nbformat": 4,
 "nbformat_minor": 5
}
